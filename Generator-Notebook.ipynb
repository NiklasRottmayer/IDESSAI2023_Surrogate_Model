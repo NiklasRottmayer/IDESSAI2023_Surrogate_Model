{
 "cells": [
  {
   "cell_type": "code",
   "execution_count": null,
   "id": "313a7abd",
   "metadata": {
    "scrolled": true
   },
   "outputs": [],
   "source": [
    "# Prerequisites\n",
    "import numpy as np\n",
    "from numpy import log\n",
    "from numpy import random as rd\n",
    "import matplotlib.pyplot as plt\n",
    "from matplotlib import image\n",
    "\n",
    "# Our classes\n",
    "from BooleanModel import CBooleanModel, Render3DImage\n",
    "from DirectionalDistributions import CRotationGenerator\n",
    "from Particles import CParticle"
   ]
  },
  {
   "cell_type": "markdown",
   "id": "7557a907",
   "metadata": {},
   "source": [
    "# Introduction\n",
    "There exist a variety of different models that can be used to generate synthetic data. On a basic level we distinguish between deterministic and random models. Deterministic models may seem appealing at first due to their simplistic nature and lack of randomness. However, real structures usually exhibit microscopic heterogeneity that cannot be captured by deterministic models.\n",
    "\n",
    "One the most commonly encountered classes of random models are called 'germ-grain' models. In line with their name, they can be decomposed into two separate processes. Initially, points/positions (germs) are sampled in space. For each sampled germ a corresponding body (grain) is sampled and attached to the germ. In the following, we want to test out this procedure on a simple example:\n",
    "* Generate 100 random points in $[0,1]^2$\n",
    "* Plot them with different colored and shaped markers"
   ]
  },
  {
   "cell_type": "code",
   "execution_count": null,
   "id": "45edddb4",
   "metadata": {},
   "outputs": [],
   "source": [
    "number_of_germs = 100\n",
    "\n",
    "# Sampling of germ locations in 2D space\n",
    "points = rd.random((number_of_germs,2))\n",
    "\n",
    "color_options = ['r', 'g', 'b', 'c', 'm', 'y', 'k']\n",
    "marker_options = ['o', 's', '^', 'D', 'v', 'p']\n",
    "\n",
    "colors = np.random.choice(color_options, number_of_germs)\n",
    "markers = np.random.choice(marker_options, number_of_germs)\n",
    "\n",
    "# Create the plot \n",
    "plt.figure(figsize=(6, 6))\n",
    "\n",
    "for i in range(number_of_germs):\n",
    "    plt.scatter(points[i, 0], points[i, 1], color=colors[i], marker=markers[i])\n",
    "\n",
    "plt.xlim(0, 1)\n",
    "plt.ylim(0, 1)\n",
    "plt.xlabel('X')\n",
    "plt.ylabel('Y')\n",
    "plt.title('Randomly Plotted Points')\n",
    "plt.grid(True)\n",
    "plt.show()"
   ]
  },
  {
   "cell_type": "markdown",
   "id": "176d306f",
   "metadata": {},
   "source": [
    "What we have just done is to have a very simple germ grain model. In this case, we used a germ process with randomly distributed points in space but a fixed number of germs. For the grain process, we sampled the color and shape independent from one another and attached it to the corresponding points.  \n",
    "\n",
    "With such an initial example in mind, we can dive into further detail with the models used in our project. These are so-called '(stationary) Boolean models' which are germ-grain models which satisfy:\n",
    "* the number of germs in an space $A\\subset\\mathbb{R}^d$ is a Poisson-distributed random variable with intensity $\\lambda>0$.\n",
    "* germ positions are sampled uniformly in space.\n",
    "* grains are drawn independent of the germs.\n",
    "\n",
    "A common misconception about uniformly distributed points in space is the assumption that they would spread out equally, much like a grid. However, this could not be further from reality as uniformly distributed points contain clusters and empty spaces alike. \n",
    "\n",
    "**Investigate on the behaviour of the constant $\\lambda$. What does it control? Can you find out what quantity it is linked to? \n",
    "Hint: If looking at a single realization does not help, generating multiples may help you to find out.\n",
    "Hint: The number of germs can be of interest.** "
   ]
  },
  {
   "cell_type": "code",
   "execution_count": null,
   "id": "b29023f1",
   "metadata": {},
   "outputs": [],
   "source": [
    "lmb = 10\n",
    "\n",
    "number_of_germs = rd.poisson(lmb)\n",
    "\n",
    "# Sampling of germ locations in 2D space\n",
    "points = rd.random((number_of_germs,2))\n",
    "\n",
    "color_options = ['r', 'g', 'b', 'c', 'm', 'y', 'k']\n",
    "marker_options = ['o', 's', '^', 'D', 'v', 'p']\n",
    "\n",
    "colors = np.random.choice(color_options, number_of_germs)\n",
    "markers = np.random.choice(marker_options, number_of_germs)\n",
    "\n",
    "# Create the plot \n",
    "plt.figure(figsize=(6, 6))\n",
    "\n",
    "for i in range(number_of_germs):\n",
    "    plt.scatter(points[i, 0], points[i, 1], color=colors[i], marker=markers[i])\n",
    "\n",
    "plt.xlim(0, 1)\n",
    "plt.ylim(0, 1)\n",
    "plt.xlabel('X')\n",
    "plt.ylabel('Y')\n",
    "plt.title('Randomly Plotted Points')\n",
    "plt.grid(True)\n",
    "plt.show()"
   ]
  },
  {
   "cell_type": "markdown",
   "id": "aa494331",
   "metadata": {},
   "source": [
    "Result: $\\lambda$ is the expected number of germs per unit volume. The number of germs in a volume $V$ is expected to be $\\lambda*V$. However, the variance of the Poisson distribution is also $\\lambda$ such that large deviations from the expected value may be observable.\n",
    "\n",
    "*Further details: Boolean models are quite a big restriction towards germ-grain models. However, they offer knowledge on the expected value of geometrical quantities such as the volume, surface area, mean curvature and mean width. This information can be of use when analyzing the structures and its properties, e.g., for flow of water through the geometry. None the less, if we want to extend towards more general germ-grain processes, we can modify the underlying germ-process to consider interactions between sampled germs such that clustering or repulsion can be achieved. Common examples for this are Strauss or hard-core processes.*"
   ]
  },
  {
   "cell_type": "markdown",
   "id": "cea6b4cb",
   "metadata": {},
   "source": [
    "# Synthetic Data of Geometrical Structures\n",
    "In our case, we are interested in material structures such as foames or particle systems. These can usually be modelled and approximated using Boolean models. Below you can find a small range of examples that can be generated by using Boolean models. If foam-like structures are desired, taking the inverse of these realizations may already produce sufficient geometries.\n",
    "\n",
    "*If you are interested, use Fiji (ImageJ) to look into the images (Supplementary Materials) in more detail. You can scroll through the slices, or use the 3D image viewer (Plugins -> 3D Viewer) where you rotate using the middle mouse button.*\n",
    "<table><tr>\n",
    "<td><img src=\"Notebook-Images/Sphere_Vv06_r15-30_Same-Crop.png\" style=\"width: 200px;\"/></td>\n",
    "<td><img src=\"Notebook-Images/Cylinder_Vv06_r10-20_h80-160_Same-Crop.png\" style=\"width: 200px;\"/></td>\n",
    "<td><img src=\"Notebook-Images/Cylinder_Vv06_r10-20_h80-160_Uniform-Crop.png\" style=\"width: 200px;\"/></td>\n",
    "<td><img src=\"Notebook-Images/Cylinder_Vv06_r10-20_h80-160_vMF20-Crop.png\" style=\"width: 200px;\"/></td>\n",
    "</tr></table>\n",
    "<table><tr>\n",
    "<td><img src=\"Notebook-Images/Sphere_Vv06_r20-40_Same-Crop.png\" style=\"width: 200px;\"/></td>\n",
    "<td><img src=\"Notebook-Images/Ellipsoid_Vv06_r10-20-10-20-40-80_Same-Crop.png\" style=\"width: 200px;\"/></td>\n",
    "<td><img src=\"Notebook-Images/Ellipsoid_Vv06_r10-20-10-20-40-80_Uniform-Crop.png\" style=\"width: 200px;\"/></td>\n",
    "<td><img src=\"Notebook-Images/Ellipsoid_Vv06_r10-20-10-20-40-80_vMF20-Crop.png\" style=\"width: 200px;\"/></td>\n",
    "</tr></table>\n",
    "\n",
    "Before we go into more detail about options to create different datasets, we want to ask the question:\n",
    "**Why are Boolean models useful to us?**\n",
    "* Real structures are typically inhomogenous with variations in density, surface texture and structural appearance. However, at a small scale the areas of interest are homogenous*.\n",
    "* They have been well studied in research and offer useful formulas for quantities such as the **expected** surface area, mean curvature, mean width, Euler number and more [Minkowski tensors & functionals]. These quantities are useful for analyzing and comparing structures.\n",
    "* They are easy to understand and computationally cheap to generate.\n",
    "\n",
    "*homogenous refers to the mathematical property, that the general appearance does not depend on the placement of our observation frame. \n",
    "\n",
    "Now that we know, why Boolean models suffice for generating random geometric structures, we can move our attention towards the options that we have at hand. \n",
    "\n",
    "## Particles\n",
    "One of the most fundamental structural differences is produced by choosing from a small set of different particle types. The class ``CBooleanModel`` currently supports the shapes ``'Sphere'``,``'Cube'``,``'Cylinder'``,``'Ellipsoid'`` and ``'Cuboid'`` for the variable ``particle_shape``.\n",
    "\n",
    "With a selected shape, we need to specify the exact dimensions of the particles we want to generate. The first option to select is a distribution for the size parameters of the shapes. This option ``particle_distribution`` can be set to ``'Constant'`` or ``'Uniform'`` and describes if particles should be the same or if sizes may be sampled uniformly from a specified interval $[r_\\min,r_\\max]$. For a general purpose, we specify the size parameters as a 3x2 ``np.array``. Each row corresponds to the upper and lower bounds of an interval. In case of a constant distribution of particle size, the second column will be ignored. Depending on the particle shape, a different amount of parameters is required:\n",
    "* For ``'Sphere'`` the first row describes the radius.\n",
    "* For ``'Cube'`` the first row describes the side-length.\n",
    "* For ``'Cylinder'`` the first row describes the radius. The second row encodes the height. \n",
    "* For ``'Ellipsoid'`` the rows describe the length of the semi-axes, i.e., half-length of the main axes, in x-,y- and z-direction.\n",
    "* For ``'Cuboid'`` the rows describe the side-lengths in x-,y- and z-direction.\n",
    "\n",
    "**Try it out yourself. What can you observe when you use small and large sizes? What does this tell you?** \n",
    "\n",
    "*Further details: We are using vtk to render the image in 3D. You can rotate the structure around by holding down left-click on your mouse. Don't forget to close the window when you want to proceed.*"
   ]
  },
  {
   "cell_type": "code",
   "execution_count": null,
   "id": "d1fb220c",
   "metadata": {},
   "outputs": [],
   "source": [
    "# Adjust these \n",
    "particle_shape = 'Cube' # 'Sphere','Cube','Cylinder','Ellipsoid','Cuboid'\n",
    "particle_distribution = 'Constant' # 'Constant','Uniform'\n",
    "particle_parameters = np.array([[50,0],\n",
    "                                [0,0],\n",
    "                                [0,0]])\n",
    "\n",
    "# Setting up the Boolean Model Class - do not change\n",
    "Model = CBooleanModel(volume_density=0.3,\n",
    "                      image_size=np.array([256,256,256]),\n",
    "                      particle_shape=particle_shape,\n",
    "                      particle_parameters=particle_parameters,\n",
    "                      particle_distribution=particle_distribution,\n",
    "                      orientation = 'Uniform',\n",
    "                      edge_treatment='Plus Sampling',\n",
    "                      inversion = True)\n",
    "\n",
    "# Generating a random geometry\n",
    "Model.generate()\n",
    "# Rendering the geometry to a binary image\n",
    "Model.render()\n",
    "# Viewing the image\n",
    "Render3DImage(Model.Image)"
   ]
  },
  {
   "cell_type": "markdown",
   "id": "23633a27",
   "metadata": {},
   "source": [
    "Result: With shrinking particle size, the number of generated objects and computation time increases drastically. However, most time is spend rendering the structures into an image. Therefore, rendering appears to be the computationally expensive part."
   ]
  },
  {
   "cell_type": "markdown",
   "id": "4e02547a",
   "metadata": {},
   "source": [
    "## Volume Density\n",
    "Another option which strongly regulates the appearance and properties of structures is the volume density $V_V$. It is the fraction of space that is filled by the geometry, i.e., $V_V=0.6$ implies that 60\\% of the space is occupied by the geometry while the rest of it is empty. If you recall, we have introduced Boolean models with an intensity $\\lambda$ which was the expected number of germs. The volume density and intensity for a Boolean model are linked together by \n",
    "\n",
    "$$ V_V = 1 - \\exp(-\\lambda\\bar{V}),$$\n",
    "\n",
    "where $\\bar{V}$ is the expected volume of a particle. Therefore, once we have all the information for particles (grain process), we have a one-to-one correspondence of $\\lambda$ and $V_V$. We would argue that $V_V$ is a reasonable parameter to use as it strongly affects appearance and properties. Furthermore, it is easily understandable and comparable between models. \n",
    "\n",
    "**Play around with $V_V$ and observe the effect on the structure. Verify if $V_V$ is indeed the volume density of your realizations.**"
   ]
  },
  {
   "cell_type": "code",
   "execution_count": null,
   "id": "7da77782",
   "metadata": {},
   "outputs": [],
   "source": [
    "Vv = 0.3\n",
    "\n",
    "# Setting up the Boolean Model Class - do not change\n",
    "Model = CBooleanModel(volume_density=Vv,\n",
    "                      image_size=np.array([256,256,256]),\n",
    "                      particle_shape='Sphere',\n",
    "                      particle_parameters=np.array([[20,30],[0,0],[0,0]]),\n",
    "                      particle_distribution='Uniform',\n",
    "                      orientation = 'Uniform',\n",
    "                      edge_treatment='Plus Sampling')\n",
    "# Generating a random geometry\n",
    "Model.generate()\n",
    "# Rendering the geometry to a binary image\n",
    "Model.render()\n",
    "# Viewing the image\n",
    "Render3DImage(Model.Image)"
   ]
  },
  {
   "cell_type": "code",
   "execution_count": null,
   "id": "70d04ead",
   "metadata": {},
   "outputs": [],
   "source": [
    "# Your Code for verifying if Vv is the actual volume density of the realizations\n",
    "img = Model.Image\n",
    "\n",
    "\n",
    "\n",
    "\n"
   ]
  },
  {
   "cell_type": "markdown",
   "id": "3d64ecb7",
   "metadata": {},
   "source": [
    "Result: $V_V$ and the volume density of realizations do not coincide. While they are close together, $V_V$ is just the expected volume density of the model. Each realization deviates from this value by chance. "
   ]
  },
  {
   "cell_type": "markdown",
   "id": "b8ca2b17",
   "metadata": {},
   "source": [
    "## Orientation\n",
    "In previous calls of the ``CBooleanModel`` class you may have noticed the parameter ``orientation``. It describes the distribution used for sampling rotations to intrinsically rotate particles once placed in space. Supported values are ``'Fixed'``, ``'von Mises-Fisher'``, ``'Schladitz'`` and ``'Uniform'``, each corresponding to a respective distribution to draw from. \n",
    "* ``'Fixed'`` asserts a constant rotation that is applied to all particles, i.e., all particles point in the same direction.\n",
    "* ``'von Mises-Fisher'`` uses an unimodal distribution, i.e., a distribution with a single preferred direction. Depending on a concentration parameter $\\kappa$, sampled directions deviate from this prefferential axis. The corresponding grain is aligned with the sampled direction and afterwards intrinsically rotated with a uniformly drawn angle around that axis.\n",
    "* ``'Schladitz'`` is a special case of an angular central Gaussian distribution. It can be used to sample directions in a girdle around the unit sphere, i.e., directions lie preferably in a plane. It depends on a parameter $\\beta$ which we will not go into furhter detail here. Particles are again aligned with the sampled directions and intrinsically rotated with a uniformly drawn angle around that axis.\n",
    "* ``'Uniform'`` samples and applies a uniformly distributed rotation from the group of rotations $SO(3)$.\n",
    "\n",
    "*Comment: Particles assert the z-axis to be an axis of reference, e.g., a cylinder without rotation is drawn with its height along the z-axis. For Schladitz and von Mises-Fisher the z-axis first gets rotated on the sampled direction and then rotated intrinsically around this axis.*\n",
    "\n",
    "**Become acustomed to the four different settings. For the options 'Schladitz' and 'von Mises-Fisher' try out different parameter settings and explain what they do.**\n",
    "\n",
    "*You may alter volume density, particle type and size if it helps your understanding.*"
   ]
  },
  {
   "cell_type": "code",
   "execution_count": null,
   "id": "38728f46",
   "metadata": {},
   "outputs": [],
   "source": [
    "orientation = 'Schladitz'\n",
    "kappa_beta = 20\n",
    "\n",
    "\n",
    "# Setting up the Boolean Model Class - do not change\n",
    "Model = CBooleanModel(volume_density=0.05,\n",
    "                      image_size=np.array([256,256,256]),\n",
    "                      particle_shape='Cuboid',\n",
    "                      particle_parameters=np.array([[10,10],[15,15],[50,50]]),\n",
    "                      particle_distribution='Constant',\n",
    "                      orientation = orientation,\n",
    "                      orientation_parameters = np.array([0,0,kappa_beta]),\n",
    "                      edge_treatment='Plus Sampling')\n",
    "# Generating a random geometry\n",
    "Model.generate()\n",
    "# Rendering the geometry to a binary image\n",
    "Model.render()\n",
    "# Viewing the image\n",
    "Render3DImage(Model.Image)"
   ]
  },
  {
   "cell_type": "markdown",
   "id": "4f509919",
   "metadata": {},
   "source": [
    "## Edge Treatment\n",
    "This option is rather boring compared to the rest as it does not affect the overall appearance of structures generated by the Boolean models. The two options here are ``'Plus Sampling'`` and ``'Periodic'`` which refer to the way we work with the edge of our volume. An error that commonly appears in science, specifically with random models, is that researchers forget about the effect of observing something in a restricted window. This can lead to biases and errors when analyzing the structure for its properties. In our case, we consider the realizations to be a cut-out of an infinitiely large block with the same structure, that is observed in the finite realization at hand.\n",
    "\n",
    "One way to obtain a proper realization is to generate germs in a window that is larger than the image size. The larger window has to be chosen/calculated adequately such that particles can stick out into the image. This can mean a noticeable increase in space to sample when images are large. \n",
    "\n",
    "The second and more efficient approach considers the image borders to be periodic, i.e., a particles that sticks out of the image at one side continues at the opposite side. This approach does not increase the numerical complexity but is less 'realistic'. Furthermore, it can lead to miscommunications when exchanging images and geometrical configurations as particles are typically stored only once when intersecting with the image border. Hence, including the information of periodic boundary treatment is important.\n",
    "\n",
    "**Test out the two options and verify difference between 'Periodic' and 'Plus Sampling'.**"
   ]
  },
  {
   "cell_type": "code",
   "execution_count": null,
   "id": "61ca7129",
   "metadata": {},
   "outputs": [],
   "source": [
    "edge_treatment = 'Periodic'\n",
    "\n",
    "Model = CBooleanModel(volume_density=0.03,\n",
    "                      image_size=np.array([256,256,256]),\n",
    "                      particle_shape='Cuboid',\n",
    "                      particle_parameters=np.array([[10,10],[15,15],[200,200]]),\n",
    "                      particle_distribution='Constant',\n",
    "                      orientation = 'Fixed',\n",
    "                      edge_treatment=edge_treatment)\n",
    "# Generating a random geometry\n",
    "Model.generate()\n",
    "# Rendering the geometry to a binary image\n",
    "Model.render()\n",
    "# Viewing the image\n",
    "Render3DImage(Model.Image)"
   ]
  },
  {
   "cell_type": "markdown",
   "id": "dd7d1c87",
   "metadata": {},
   "source": [
    "**Now that we have seen all available options for generating different structures, try to replicate the structures from the example in the beginning. Note down your settings. Tip: They share the same volume density.**"
   ]
  },
  {
   "cell_type": "code",
   "execution_count": null,
   "id": "75667d7f",
   "metadata": {},
   "outputs": [],
   "source": [
    "# Particles\n",
    "particle_shape = 'Sphere' # 'Sphere','Cube','Cylinder','Ellipsoid','Cuboid'\n",
    "particle_distribution = 'Uniform' # 'Constant','Uniform'\n",
    "particle_parameters = np.array([[10,10],\n",
    "                                [0,0],\n",
    "                                [0,0]])\n",
    "# Volume density\n",
    "Vv = 0.6\n",
    "# Orientation\n",
    "orientation = 'Fixed'\n",
    "kappa_beta = 20\n",
    "\n",
    "# Setting up the Boolean Model Class - do not change\n",
    "Model = CBooleanModel(volume_density=Vv,\n",
    "                      image_size=np.array([256,256,256]),\n",
    "                      particle_shape=particle_shape,\n",
    "                      particle_parameters=particle_parameters,\n",
    "                      particle_distribution=particle_distribution,\n",
    "                      orientation = orientation,\n",
    "                      orientation_parameters = np.array([0,0,kappa_beta]),\n",
    "                      edge_treatment='Periodic')\n",
    "# Generating a random geometry\n",
    "Model.generate()\n",
    "# Rendering the geometry to a binary image\n",
    "Model.render()\n",
    "# Viewing the image\n",
    "Render3DImage(Model.Image)"
   ]
  },
  {
   "cell_type": "code",
   "execution_count": null,
   "id": "5db5be3e",
   "metadata": {},
   "outputs": [],
   "source": []
  }
 ],
 "metadata": {
  "kernelspec": {
   "display_name": "Python 3 (ipykernel)",
   "language": "python",
   "name": "python3"
  },
  "language_info": {
   "codemirror_mode": {
    "name": "ipython",
    "version": 3
   },
   "file_extension": ".py",
   "mimetype": "text/x-python",
   "name": "python",
   "nbconvert_exporter": "python",
   "pygments_lexer": "ipython3",
   "version": "3.10.10"
  }
 },
 "nbformat": 4,
 "nbformat_minor": 5
}
